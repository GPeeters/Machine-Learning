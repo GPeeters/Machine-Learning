{
 "cells": [
  {
   "cell_type": "markdown",
   "metadata": {},
   "source": [
    "# Twitter mining\n",
    "\n",
    "Requirements:\n",
    "* a Twitter Account\n",
    "* Python 3\n",
    "\n",
    "Steps\n",
    "- Go to: https://developer.twitter.com/en/apps\n",
    "- Create an application\n",
    "- Get your OAuth keys/tokens (consumer keys (2), access tokens (2))\n",
    "\n",
    "Install tweepy library (https://www.tweepy.org/)\n",
    "\n",
    "http://docs.tweepy.org/en/latest/install.html\n",
    "* pip install tweepy"
   ]
  },
  {
   "cell_type": "code",
   "execution_count": 1,
   "metadata": {},
   "outputs": [
    {
     "name": "stdout",
     "output_type": "stream",
     "text": [
      "Requirement already satisfied: tweepy in c:\\users\\gille\\anaconda3\\lib\\site-packages (4.3.0)\n",
      "Requirement already satisfied: requests-oauthlib<2,>=1.0.0 in c:\\users\\gille\\anaconda3\\lib\\site-packages (from tweepy) (1.3.0)\n",
      "Requirement already satisfied: requests<3,>=2.11.1 in c:\\users\\gille\\anaconda3\\lib\\site-packages (from tweepy) (2.25.1)\n",
      "Requirement already satisfied: certifi>=2017.4.17 in c:\\users\\gille\\anaconda3\\lib\\site-packages (from requests<3,>=2.11.1->tweepy) (2021.10.8)\n",
      "Requirement already satisfied: chardet<5,>=3.0.2 in c:\\users\\gille\\anaconda3\\lib\\site-packages (from requests<3,>=2.11.1->tweepy) (4.0.0)\n",
      "Requirement already satisfied: urllib3<1.27,>=1.21.1 in c:\\users\\gille\\anaconda3\\lib\\site-packages (from requests<3,>=2.11.1->tweepy) (1.26.4)\n",
      "Requirement already satisfied: idna<3,>=2.5 in c:\\users\\gille\\anaconda3\\lib\\site-packages (from requests<3,>=2.11.1->tweepy) (2.10)\n",
      "Requirement already satisfied: oauthlib>=3.0.0 in c:\\users\\gille\\anaconda3\\lib\\site-packages (from requests-oauthlib<2,>=1.0.0->tweepy) (3.1.1)\n"
     ]
    }
   ],
   "source": [
    "!pip install tweepy"
   ]
  },
  {
   "cell_type": "code",
   "execution_count": 2,
   "metadata": {},
   "outputs": [],
   "source": [
    "#importing the required libs\n",
    "import json, csv, tweepy, re\n",
    "from pathlib import Path"
   ]
  },
  {
   "cell_type": "code",
   "execution_count": 3,
   "metadata": {},
   "outputs": [],
   "source": [
    "\"\"\"\n",
    "INPUTS:\n",
    "    consumer_key, consumer_secret, access_token, access_token_secret: codes \n",
    "    telling twitter that we are authorized to access this data\n",
    "    hashtag_phrase: the combination of hashtags to search for\n",
    "    ntweets: how many tweets do you want (be carefull, Twitter limits this to some maximum (200))\n",
    "OUTPUTS:\n",
    "    none, simply save the tweet info to a spreadsheet\n",
    "\"\"\"\n",
    "def search_for_hashtags(consumer_key, consumer_secret, access_token, access_token_secret, hashtag_phrase,ntweets):\n",
    "    \n",
    "    #create authentication for accessing Twitter\n",
    "    auth = tweepy.OAuthHandler(consumer_key, consumer_secret)\n",
    "    auth.set_access_token(access_token, access_token_secret)\n",
    "\n",
    "    #initialize Tweepy API\n",
    "    api = tweepy.API(auth)\n",
    "    \n",
    "    #get the name of the spreadsheet we will write to\n",
    "    fname = '_'.join(re.findall(r\"#(\\w+)\", hashtag_phrase))\n",
    "    \n",
    "    my_file = Path(\"C:\\\\Users\\\\gille\\\\Desktop\\\\Machine learning\\\\Twitter mining\\\\\"+fname+\".csv\")\n",
    "    if my_file.is_file():\n",
    "        #open the spreadsheet we will write to\n",
    "        with open('%s.csv' % (fname), '+a', newline='', encoding='utf8') as file:\n",
    "\n",
    "            w = csv.writer(file)\n",
    "\n",
    "            #for each tweet matching our hashtags, write relevant info to the spreadsheet\n",
    "            for tweet in tweepy.Cursor(api.search_tweets, q=hashtag_phrase+' -filter:retweets', \\\n",
    "                                       lang=\"en\", tweet_mode='extended').items(ntweets):\n",
    "                try:\n",
    "                    w.writerow([tweet.created_at, tweet.full_text.replace('\\n',' '), tweet.user.screen_name.encode('utf-8'), [e['text'] for e in tweet._json['entities']['hashtags']], tweet.user.followers_count, tweet.favorite_count])\n",
    "                except UnicodeEncodeError as unierr:\n",
    "                    print(\"Some UnicodeError happened\",unierr)\n",
    "    else:\n",
    "        #open the spreadsheet we will write to\n",
    "        with open('%s.csv' % (fname), 'w', newline='', encoding='utf8') as file:\n",
    "\n",
    "            w = csv.writer(file)\n",
    "\n",
    "            #write header row to spreadsheet\n",
    "            w.writerow(['timestamp', 'tweet_text', 'username', 'all_hashtags', 'followers_count'])\n",
    "\n",
    "            #for each tweet matching our hashtags, write relevant info to the spreadsheet\n",
    "            for tweet in tweepy.Cursor(api.search_tweets, q=hashtag_phrase+' -filter:retweets', \\\n",
    "                                       lang=\"en\", tweet_mode='extended').items(ntweets):\n",
    "                try:\n",
    "                    w.writerow([tweet.created_at, tweet.full_text.replace('\\n',' '), tweet.user.screen_name.encode('utf-8'), [e['text'] for e in tweet._json['entities']['hashtags']], tweet.user.followers_count])\n",
    "                except UnicodeEncodeError as unierr:\n",
    "                    print(\"Some UnicodeError happened\",unierr)"
   ]
  },
  {
   "cell_type": "code",
   "execution_count": 4,
   "metadata": {},
   "outputs": [
    {
     "name": "stdin",
     "output_type": "stream",
     "text": [
      "Hashtag Phrase  #vaccination\n"
     ]
    }
   ],
   "source": [
    "# API Key = eZ4UX49MsCvlhBPyozIUR6yFV\n",
    "# API Key secret = 4KarZqid5Daf9oIEdF6Qdiy19CpWvllCsJomoLTBRkJ4N4r9wz\n",
    "# Bearer token = \n",
    "# AAAAAAAAAAAAAAAAAAAAADtnUwEAAAAA0IOo3X8Rz7aukMS33hryBZ8ctaY%3DDIDqDBwEIWJ3pJIWK0rcCkmR0AgiWWZ5bPAWKJAltxsGks0Bkr\n",
    "\n",
    "consumer_key = 'eZ4UX49MsCvlhBPyozIUR6yFV'\n",
    "consumer_secret = '4KarZqid5Daf9oIEdF6Qdiy19CpWvllCsJomoLTBRkJ4N4r9wz'\n",
    "access_token = '1192727896349118464-V5GmDGEIgfEp1oDG8IlJhZFnnB6TmD'\n",
    "access_token_secret = 'dD09NLMawOrAnb2Zs4fM8EIVuAP7cmcKXqWJBEe8C3020'\n",
    "    \n",
    "hashtag_phrase = input('Hashtag Phrase ')\n",
    "\n",
    "ntweets = 200 #Twitter limits this to maximum 200\n",
    "\n",
    "if __name__ == '__main__':\n",
    "    search_for_hashtags(consumer_key, consumer_secret, access_token, access_token_secret, hashtag_phrase,ntweets)"
   ]
  },
  {
   "cell_type": "markdown",
   "metadata": {},
   "source": [
    "Some references:\n",
    "https://www.youtube.com/watch?v=Ou_floKQqd8"
   ]
  }
 ],
 "metadata": {
  "kernelspec": {
   "display_name": "Python 3",
   "language": "python",
   "name": "python3"
  },
  "language_info": {
   "codemirror_mode": {
    "name": "ipython",
    "version": 3
   },
   "file_extension": ".py",
   "mimetype": "text/x-python",
   "name": "python",
   "nbconvert_exporter": "python",
   "pygments_lexer": "ipython3",
   "version": "3.8.8"
  }
 },
 "nbformat": 4,
 "nbformat_minor": 4
}
