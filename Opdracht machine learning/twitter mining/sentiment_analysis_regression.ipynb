{
 "cells": [
  {
   "cell_type": "markdown",
   "metadata": {},
   "source": [
    "# ML with tweets"
   ]
  },
  {
   "cell_type": "markdown",
   "metadata": {},
   "source": [
    "## Natural language processing\n",
    "### Loading the mined data"
   ]
  },
  {
   "cell_type": "code",
   "execution_count": 1,
   "metadata": {},
   "outputs": [],
   "source": [
    "import numpy as np\n",
    "import pandas as pd\n",
    "import sklearn as skl\n",
    "\n",
    "df1 = pd.read_csv(\"C:/Users/gille/Desktop/Machine learning/Twitter mining/vaccine.csv\")\n",
    "df1['username'] = df1['username'].str[2:-1]\n",
    "df1['username'].astype('string')\n",
    "df1['username'].head()\n",
    "\n",
    "df2 = pd.read_csv(\"C:/Users/gille/Desktop/Machine learning/Twitter mining/vaccination.csv\")\n",
    "df2['username'] = df2['username'].str[2:-1]\n",
    "df2['username'].astype('string')\n",
    "df2['username'].head()\n",
    "\n",
    "df = pd.concat([df1,df2])\n",
    "df = df.drop(['favourites'], axis=1)"
   ]
  },
  {
   "cell_type": "markdown",
   "metadata": {},
   "source": [
    "### Remove all useless data"
   ]
  },
  {
   "cell_type": "code",
   "execution_count": 2,
   "metadata": {},
   "outputs": [
    {
     "name": "stdout",
     "output_type": "stream",
     "text": [
      "Dataset size: (1965, 4)\n"
     ]
    },
    {
     "data": {
      "text/html": [
       "<div>\n",
       "<style scoped>\n",
       "    .dataframe tbody tr th:only-of-type {\n",
       "        vertical-align: middle;\n",
       "    }\n",
       "\n",
       "    .dataframe tbody tr th {\n",
       "        vertical-align: top;\n",
       "    }\n",
       "\n",
       "    .dataframe thead th {\n",
       "        text-align: right;\n",
       "    }\n",
       "</style>\n",
       "<table border=\"1\" class=\"dataframe\">\n",
       "  <thead>\n",
       "    <tr style=\"text-align: right;\">\n",
       "      <th></th>\n",
       "      <th>tweet_text</th>\n",
       "      <th>username</th>\n",
       "      <th>all_hashtags</th>\n",
       "      <th>followers_count</th>\n",
       "    </tr>\n",
       "  </thead>\n",
       "  <tbody>\n",
       "    <tr>\n",
       "      <th>0</th>\n",
       "      <td>You can get your 1st, 2nd &amp;amp; 3rd #Pfizer #C...</td>\n",
       "      <td>LBofHounslow</td>\n",
       "      <td>['Pfizer', 'Covid19', 'Hounslow', 'Covid_19', ...</td>\n",
       "      <td>15377</td>\n",
       "    </tr>\n",
       "    <tr>\n",
       "      <th>1</th>\n",
       "      <td>An image has been shared repeatedly in social ...</td>\n",
       "      <td>boomlive_in</td>\n",
       "      <td>['FakeNews', 'vaccine', 'COVID19', 'Ireland']</td>\n",
       "      <td>74361</td>\n",
       "    </tr>\n",
       "    <tr>\n",
       "      <th>2</th>\n",
       "      <td>We are currently hearing a lot of horror news ...</td>\n",
       "      <td>ProfDrX2</td>\n",
       "      <td>['covid', 'corona', 'satanic', 'beast', 'hoax'...</td>\n",
       "      <td>7</td>\n",
       "    </tr>\n",
       "    <tr>\n",
       "      <th>3</th>\n",
       "      <td>#VACC #VACCineToken #VACCine #HealthToken http...</td>\n",
       "      <td>LatifMovar</td>\n",
       "      <td>['VACC', 'VACCineToken', 'VACCine', 'HealthTok...</td>\n",
       "      <td>4889</td>\n",
       "    </tr>\n",
       "    <tr>\n",
       "      <th>4</th>\n",
       "      <td>Get Free Meditation Ever🧘https://t.co/oCsO0qeC...</td>\n",
       "      <td>BatPhobia9</td>\n",
       "      <td>['meditationmusic', 'sleepmeditation', 'guided...</td>\n",
       "      <td>104</td>\n",
       "    </tr>\n",
       "  </tbody>\n",
       "</table>\n",
       "</div>"
      ],
      "text/plain": [
       "                                          tweet_text      username  \\\n",
       "0  You can get your 1st, 2nd &amp; 3rd #Pfizer #C...  LBofHounslow   \n",
       "1  An image has been shared repeatedly in social ...   boomlive_in   \n",
       "2  We are currently hearing a lot of horror news ...      ProfDrX2   \n",
       "3  #VACC #VACCineToken #VACCine #HealthToken http...    LatifMovar   \n",
       "4  Get Free Meditation Ever🧘https://t.co/oCsO0qeC...    BatPhobia9   \n",
       "\n",
       "                                        all_hashtags  followers_count  \n",
       "0  ['Pfizer', 'Covid19', 'Hounslow', 'Covid_19', ...            15377  \n",
       "1      ['FakeNews', 'vaccine', 'COVID19', 'Ireland']            74361  \n",
       "2  ['covid', 'corona', 'satanic', 'beast', 'hoax'...                7  \n",
       "3  ['VACC', 'VACCineToken', 'VACCine', 'HealthTok...             4889  \n",
       "4  ['meditationmusic', 'sleepmeditation', 'guided...              104  "
      ]
     },
     "execution_count": 2,
     "metadata": {},
     "output_type": "execute_result"
    }
   ],
   "source": [
    "df2 = df.drop(['timestamp'], axis=1)\n",
    "df3 = df2.drop_duplicates()\n",
    "df4 = df3.dropna(axis=0)\n",
    "print(\"Dataset size:\", df4.shape)\n",
    "df4.head()"
   ]
  },
  {
   "cell_type": "markdown",
   "metadata": {},
   "source": [
    "### Clean tweet text"
   ]
  },
  {
   "cell_type": "code",
   "execution_count": 3,
   "metadata": {},
   "outputs": [],
   "source": [
    "import re # A python library used for regular expressions\n",
    "def clean_tweet(tweet):\n",
    "\n",
    "    return ' '.join(re.sub(\"(@[A-Za-z0-9]+)|(#[A-Za-z0-9_]+)|([^0-9A-Za-z \\t])|(\\w+:\\/\\/\\S+)\", \" \", tweet).split())"
   ]
  },
  {
   "cell_type": "code",
   "execution_count": 4,
   "metadata": {},
   "outputs": [
    {
     "name": "stdout",
     "output_type": "stream",
     "text": [
      "0      You can get your 1st 2nd amp 3rd vaccinations ...\n",
      "1      An image has been shared repeatedly in social ...\n",
      "2      We are currently hearing a lot of horror news ...\n",
      "3      This project has a bright and amazing future I...\n",
      "4                               Get Free Meditation Ever\n",
      "                             ...                        \n",
      "595    Today the Commissioner sir launched 15 Door to...\n",
      "596        Covid studies should record women s menstrual\n",
      "597    1 2 Day 320 02 Dec 7AM India update as per IND...\n",
      "598     Researchers may have solved an important part of\n",
      "599    The global progress of provided the much neede...\n",
      "Name: tweet_text, Length: 1965, dtype: object\n"
     ]
    }
   ],
   "source": [
    "df4['tweet_text'] = df4['tweet_text'].apply(clean_tweet)\n",
    "print(df4['tweet_text']) "
   ]
  },
  {
   "cell_type": "markdown",
   "metadata": {},
   "source": [
    "### Adding sentiment to the tweets"
   ]
  },
  {
   "cell_type": "code",
   "execution_count": 5,
   "metadata": {},
   "outputs": [
    {
     "data": {
      "text/html": [
       "<div>\n",
       "<style scoped>\n",
       "    .dataframe tbody tr th:only-of-type {\n",
       "        vertical-align: middle;\n",
       "    }\n",
       "\n",
       "    .dataframe tbody tr th {\n",
       "        vertical-align: top;\n",
       "    }\n",
       "\n",
       "    .dataframe thead th {\n",
       "        text-align: right;\n",
       "    }\n",
       "</style>\n",
       "<table border=\"1\" class=\"dataframe\">\n",
       "  <thead>\n",
       "    <tr style=\"text-align: right;\">\n",
       "      <th></th>\n",
       "      <th>tweet_text</th>\n",
       "      <th>username</th>\n",
       "      <th>all_hashtags</th>\n",
       "      <th>followers_count</th>\n",
       "      <th>polarity</th>\n",
       "    </tr>\n",
       "  </thead>\n",
       "  <tbody>\n",
       "    <tr>\n",
       "      <th>0</th>\n",
       "      <td>You can get your 1st 2nd amp 3rd vaccinations ...</td>\n",
       "      <td>LBofHounslow</td>\n",
       "      <td>['Pfizer', 'Covid19', 'Hounslow', 'Covid_19', ...</td>\n",
       "      <td>15377</td>\n",
       "      <td>0.165000</td>\n",
       "    </tr>\n",
       "    <tr>\n",
       "      <th>1</th>\n",
       "      <td>An image has been shared repeatedly in social ...</td>\n",
       "      <td>boomlive_in</td>\n",
       "      <td>['FakeNews', 'vaccine', 'COVID19', 'Ireland']</td>\n",
       "      <td>74361</td>\n",
       "      <td>0.011111</td>\n",
       "    </tr>\n",
       "    <tr>\n",
       "      <th>2</th>\n",
       "      <td>We are currently hearing a lot of horror news ...</td>\n",
       "      <td>ProfDrX2</td>\n",
       "      <td>['covid', 'corona', 'satanic', 'beast', 'hoax'...</td>\n",
       "      <td>7</td>\n",
       "      <td>-0.100000</td>\n",
       "    </tr>\n",
       "    <tr>\n",
       "      <th>3</th>\n",
       "      <td>This project has a bright and amazing future I...</td>\n",
       "      <td>LatifMovar</td>\n",
       "      <td>['VACC', 'VACCineToken', 'VACCine', 'HealthTok...</td>\n",
       "      <td>4889</td>\n",
       "      <td>0.388333</td>\n",
       "    </tr>\n",
       "    <tr>\n",
       "      <th>4</th>\n",
       "      <td>Get Free Meditation Ever</td>\n",
       "      <td>BatPhobia9</td>\n",
       "      <td>['meditationmusic', 'sleepmeditation', 'guided...</td>\n",
       "      <td>104</td>\n",
       "      <td>0.400000</td>\n",
       "    </tr>\n",
       "  </tbody>\n",
       "</table>\n",
       "</div>"
      ],
      "text/plain": [
       "                                          tweet_text      username  \\\n",
       "0  You can get your 1st 2nd amp 3rd vaccinations ...  LBofHounslow   \n",
       "1  An image has been shared repeatedly in social ...   boomlive_in   \n",
       "2  We are currently hearing a lot of horror news ...      ProfDrX2   \n",
       "3  This project has a bright and amazing future I...    LatifMovar   \n",
       "4                           Get Free Meditation Ever    BatPhobia9   \n",
       "\n",
       "                                        all_hashtags  followers_count  \\\n",
       "0  ['Pfizer', 'Covid19', 'Hounslow', 'Covid_19', ...            15377   \n",
       "1      ['FakeNews', 'vaccine', 'COVID19', 'Ireland']            74361   \n",
       "2  ['covid', 'corona', 'satanic', 'beast', 'hoax'...                7   \n",
       "3  ['VACC', 'VACCineToken', 'VACCine', 'HealthTok...             4889   \n",
       "4  ['meditationmusic', 'sleepmeditation', 'guided...              104   \n",
       "\n",
       "   polarity  \n",
       "0  0.165000  \n",
       "1  0.011111  \n",
       "2 -0.100000  \n",
       "3  0.388333  \n",
       "4  0.400000  "
      ]
     },
     "execution_count": 5,
     "metadata": {},
     "output_type": "execute_result"
    }
   ],
   "source": [
    "from textblob import TextBlob # Used to process text data\n",
    "def get_tweet_polarity(text):\n",
    "    '''\n",
    "    Utility function to classify sentiment of passed tweet\n",
    "    using textblob's sentiment method\n",
    "    '''\n",
    "    # create TextBlob object of passed tweet text\n",
    "    analysis = TextBlob(text)\n",
    "    # set sentiment\n",
    "    return analysis.sentiment.polarity\n",
    "\n",
    "df4['polarity'] = df4['tweet_text'].apply(get_tweet_polarity)\n",
    "df4.head()"
   ]
  },
  {
   "cell_type": "code",
   "execution_count": 6,
   "metadata": {},
   "outputs": [
    {
     "name": "stdout",
     "output_type": "stream",
     "text": [
      "(1965, 5)\n",
      "(1004, 5)\n"
     ]
    },
    {
     "data": {
      "text/html": [
       "<div>\n",
       "<style scoped>\n",
       "    .dataframe tbody tr th:only-of-type {\n",
       "        vertical-align: middle;\n",
       "    }\n",
       "\n",
       "    .dataframe tbody tr th {\n",
       "        vertical-align: top;\n",
       "    }\n",
       "\n",
       "    .dataframe thead th {\n",
       "        text-align: right;\n",
       "    }\n",
       "</style>\n",
       "<table border=\"1\" class=\"dataframe\">\n",
       "  <thead>\n",
       "    <tr style=\"text-align: right;\">\n",
       "      <th></th>\n",
       "      <th>tweet_text</th>\n",
       "      <th>username</th>\n",
       "      <th>all_hashtags</th>\n",
       "      <th>followers_count</th>\n",
       "      <th>polarity</th>\n",
       "    </tr>\n",
       "  </thead>\n",
       "  <tbody>\n",
       "    <tr>\n",
       "      <th>0</th>\n",
       "      <td>You can get your 1st 2nd amp 3rd vaccinations ...</td>\n",
       "      <td>LBofHounslow</td>\n",
       "      <td>['Pfizer', 'Covid19', 'Hounslow', 'Covid_19', ...</td>\n",
       "      <td>15377</td>\n",
       "      <td>0.165000</td>\n",
       "    </tr>\n",
       "    <tr>\n",
       "      <th>4</th>\n",
       "      <td>Get Free Meditation Ever</td>\n",
       "      <td>BatPhobia9</td>\n",
       "      <td>['meditationmusic', 'sleepmeditation', 'guided...</td>\n",
       "      <td>104</td>\n",
       "      <td>0.400000</td>\n",
       "    </tr>\n",
       "    <tr>\n",
       "      <th>7</th>\n",
       "      <td>Wow Don t miss this project guys This project ...</td>\n",
       "      <td>MDSojib68</td>\n",
       "      <td>['VACC', 'VACCineToken', 'VACCine', 'Health']</td>\n",
       "      <td>6332</td>\n",
       "      <td>0.286667</td>\n",
       "    </tr>\n",
       "    <tr>\n",
       "      <th>8</th>\n",
       "      <td>Giving a in the arm to the drive quite literal...</td>\n",
       "      <td>YTHISNEWS</td>\n",
       "      <td>['shot', 'vaccination', 'dose', 'vaccine']</td>\n",
       "      <td>256</td>\n",
       "      <td>0.050000</td>\n",
       "    </tr>\n",
       "    <tr>\n",
       "      <th>9</th>\n",
       "      <td>Thank you Policy for your clear and sensible w...</td>\n",
       "      <td>FranchiLiza</td>\n",
       "      <td>['COVID19', 'Masks', 'Vaccine', 'Jabs']</td>\n",
       "      <td>867</td>\n",
       "      <td>0.100000</td>\n",
       "    </tr>\n",
       "  </tbody>\n",
       "</table>\n",
       "</div>"
      ],
      "text/plain": [
       "                                          tweet_text      username  \\\n",
       "0  You can get your 1st 2nd amp 3rd vaccinations ...  LBofHounslow   \n",
       "4                           Get Free Meditation Ever    BatPhobia9   \n",
       "7  Wow Don t miss this project guys This project ...     MDSojib68   \n",
       "8  Giving a in the arm to the drive quite literal...     YTHISNEWS   \n",
       "9  Thank you Policy for your clear and sensible w...   FranchiLiza   \n",
       "\n",
       "                                        all_hashtags  followers_count  \\\n",
       "0  ['Pfizer', 'Covid19', 'Hounslow', 'Covid_19', ...            15377   \n",
       "4  ['meditationmusic', 'sleepmeditation', 'guided...              104   \n",
       "7      ['VACC', 'VACCineToken', 'VACCine', 'Health']             6332   \n",
       "8         ['shot', 'vaccination', 'dose', 'vaccine']              256   \n",
       "9            ['COVID19', 'Masks', 'Vaccine', 'Jabs']              867   \n",
       "\n",
       "   polarity  \n",
       "0  0.165000  \n",
       "4  0.400000  \n",
       "7  0.286667  \n",
       "8  0.050000  \n",
       "9  0.100000  "
      ]
     },
     "execution_count": 6,
     "metadata": {},
     "output_type": "execute_result"
    }
   ],
   "source": [
    "print(df4.shape)\n",
    "df5 = df4.drop(df4[df4.polarity == 0].index)\n",
    "print(df5.shape)\n",
    "df5.head()"
   ]
  },
  {
   "cell_type": "markdown",
   "metadata": {},
   "source": [
    "To be able to use our text in regression models, we create vectors from the words in every tweet text"
   ]
  },
  {
   "cell_type": "code",
   "execution_count": 7,
   "metadata": {},
   "outputs": [
    {
     "data": {
      "text/plain": [
       "(1004, 300)"
      ]
     },
     "execution_count": 7,
     "metadata": {},
     "output_type": "execute_result"
    }
   ],
   "source": [
    "import spacy\n",
    "\n",
    "# Create an empty model\n",
    "nlp = spacy.load('en_core_web_lg')\n",
    "\n",
    "with nlp.disable_pipes():\n",
    "    vectors = np.array([nlp(tweet).vector for tweet in df5['tweet_text']])\n",
    "    \n",
    "vectors.shape"
   ]
  },
  {
   "cell_type": "code",
   "execution_count": 8,
   "metadata": {},
   "outputs": [],
   "source": [
    "from gensim.models.doc2vec import Doc2Vec, TaggedDocument\n",
    "\n",
    "documents = [TaggedDocument(vector, [i]) for i, vector in enumerate(vectors)]\n",
    "vecModel = Doc2Vec(documents, vector_size=300, window=5, epochs=50, min_count=5, workers=-1)"
   ]
  },
  {
   "cell_type": "markdown",
   "metadata": {},
   "source": [
    "## Creating and training the first model: SVR"
   ]
  },
  {
   "cell_type": "code",
   "execution_count": 9,
   "metadata": {},
   "outputs": [
    {
     "data": {
      "text/plain": [
       "0.6314018346877833"
      ]
     },
     "execution_count": 9,
     "metadata": {},
     "output_type": "execute_result"
    }
   ],
   "source": [
    "from sklearn import svm\n",
    "X = vectors\n",
    "y = df5['polarity']\n",
    "\n",
    "regrModel = svm.SVR()\n",
    "regrModel.fit(X, y)\n",
    "regrModel.score(X, y)"
   ]
  },
  {
   "cell_type": "code",
   "execution_count": 10,
   "metadata": {},
   "outputs": [
    {
     "data": {
      "text/plain": [
       "0.14001156016627095"
      ]
     },
     "execution_count": 10,
     "metadata": {},
     "output_type": "execute_result"
    }
   ],
   "source": [
    "from sklearn.metrics import mean_absolute_error\n",
    "\n",
    "predictions1 = regrModel.predict(X)\n",
    "mean_absolute_error(y, predictions1)"
   ]
  },
  {
   "cell_type": "markdown",
   "metadata": {},
   "source": [
    "## Creating and training the second model: RANSACRegressor"
   ]
  },
  {
   "cell_type": "code",
   "execution_count": 11,
   "metadata": {},
   "outputs": [
    {
     "data": {
      "text/plain": [
       "0.46513693589805366"
      ]
     },
     "execution_count": 11,
     "metadata": {},
     "output_type": "execute_result"
    }
   ],
   "source": [
    "from sklearn.linear_model import RANSACRegressor\n",
    "from sklearn.datasets import make_regression\n",
    "\n",
    "RANSACreg = RANSACRegressor(random_state=0).fit(X, y)\n",
    "RANSACreg.score(X, y)\n",
    "\n",
    "predictions2 = RANSACreg.predict(X)\n",
    "mean_absolute_error(y, predictions2)"
   ]
  },
  {
   "cell_type": "markdown",
   "metadata": {},
   "source": [
    "## Testing the models\n",
    "### Retrieving and cleaning test data"
   ]
  },
  {
   "cell_type": "code",
   "execution_count": 12,
   "metadata": {},
   "outputs": [],
   "source": [
    "df_test = pd.read_csv(\"C:/Users/gille/Desktop/Machine learning/Twitter mining/cat.csv\")\n",
    "df_test['username'] = df_test['username'].str[2:-1]\n",
    "df_test['username'].astype('string')\n",
    "df_test['username'].head()\n",
    "df_test = df_test.drop('timestamp', axis=1)\n",
    "\n",
    "df_test['tweet_text'] = df_test['tweet_text'].apply(clean_tweet)"
   ]
  },
  {
   "cell_type": "code",
   "execution_count": 13,
   "metadata": {},
   "outputs": [],
   "source": [
    "df_test['polarity'] = df_test['tweet_text'].apply(get_tweet_polarity)"
   ]
  },
  {
   "cell_type": "code",
   "execution_count": 14,
   "metadata": {},
   "outputs": [
    {
     "name": "stdout",
     "output_type": "stream",
     "text": [
      "(200, 5)\n",
      "(124, 5)\n"
     ]
    },
    {
     "data": {
      "text/html": [
       "<div>\n",
       "<style scoped>\n",
       "    .dataframe tbody tr th:only-of-type {\n",
       "        vertical-align: middle;\n",
       "    }\n",
       "\n",
       "    .dataframe tbody tr th {\n",
       "        vertical-align: top;\n",
       "    }\n",
       "\n",
       "    .dataframe thead th {\n",
       "        text-align: right;\n",
       "    }\n",
       "</style>\n",
       "<table border=\"1\" class=\"dataframe\">\n",
       "  <thead>\n",
       "    <tr style=\"text-align: right;\">\n",
       "      <th></th>\n",
       "      <th>tweet_text</th>\n",
       "      <th>username</th>\n",
       "      <th>all_hashtags</th>\n",
       "      <th>followers_count</th>\n",
       "      <th>polarity</th>\n",
       "    </tr>\n",
       "  </thead>\n",
       "  <tbody>\n",
       "    <tr>\n",
       "      <th>0</th>\n",
       "      <td>Project Report 2021 Manufacturing Process Plan...</td>\n",
       "      <td>JamieCo78336894</td>\n",
       "      <td>['Cat', 'Food']</td>\n",
       "      <td>0</td>\n",
       "      <td>-0.230769</td>\n",
       "    </tr>\n",
       "    <tr>\n",
       "      <th>1</th>\n",
       "      <td>90min Edit my highlights Have Get from my Be r...</td>\n",
       "      <td>kilzorgaming</td>\n",
       "      <td>['workout', 'twitchstreaming', 'breakfast', 'c...</td>\n",
       "      <td>29</td>\n",
       "      <td>0.200000</td>\n",
       "    </tr>\n",
       "    <tr>\n",
       "      <th>2</th>\n",
       "      <td>A cat s eyesight is both better and worse than...</td>\n",
       "      <td>ArielPinco</td>\n",
       "      <td>['Cat', 'CatFact']</td>\n",
       "      <td>22</td>\n",
       "      <td>0.114286</td>\n",
       "    </tr>\n",
       "    <tr>\n",
       "      <th>5</th>\n",
       "      <td>Good Education is a Foundation for a Better fu...</td>\n",
       "      <td>lcbs_dhaka</td>\n",
       "      <td>['LCBS', 'LCBS_Dhaka', 'success_Story', 'Congr...</td>\n",
       "      <td>20</td>\n",
       "      <td>0.487500</td>\n",
       "    </tr>\n",
       "    <tr>\n",
       "      <th>6</th>\n",
       "      <td>Money can buy you a fine but only can make him...</td>\n",
       "      <td>PlusBeds</td>\n",
       "      <td>['dog', 'love', 'wag', 'tail', 'dogs', 'puppy'...</td>\n",
       "      <td>141</td>\n",
       "      <td>0.208333</td>\n",
       "    </tr>\n",
       "  </tbody>\n",
       "</table>\n",
       "</div>"
      ],
      "text/plain": [
       "                                          tweet_text         username  \\\n",
       "0  Project Report 2021 Manufacturing Process Plan...  JamieCo78336894   \n",
       "1  90min Edit my highlights Have Get from my Be r...     kilzorgaming   \n",
       "2  A cat s eyesight is both better and worse than...       ArielPinco   \n",
       "5  Good Education is a Foundation for a Better fu...       lcbs_dhaka   \n",
       "6  Money can buy you a fine but only can make him...         PlusBeds   \n",
       "\n",
       "                                        all_hashtags  followers_count  \\\n",
       "0                                    ['Cat', 'Food']                0   \n",
       "1  ['workout', 'twitchstreaming', 'breakfast', 'c...               29   \n",
       "2                                 ['Cat', 'CatFact']               22   \n",
       "5  ['LCBS', 'LCBS_Dhaka', 'success_Story', 'Congr...               20   \n",
       "6  ['dog', 'love', 'wag', 'tail', 'dogs', 'puppy'...              141   \n",
       "\n",
       "   polarity  \n",
       "0 -0.230769  \n",
       "1  0.200000  \n",
       "2  0.114286  \n",
       "5  0.487500  \n",
       "6  0.208333  "
      ]
     },
     "execution_count": 14,
     "metadata": {},
     "output_type": "execute_result"
    }
   ],
   "source": [
    "print(df_test.shape)\n",
    "df_test = df_test.drop(df_test[df_test.polarity == 0].index)\n",
    "print(df_test.shape)\n",
    "df_test.head()"
   ]
  },
  {
   "cell_type": "code",
   "execution_count": 15,
   "metadata": {},
   "outputs": [
    {
     "data": {
      "text/plain": [
       "(124, 300)"
      ]
     },
     "execution_count": 15,
     "metadata": {},
     "output_type": "execute_result"
    }
   ],
   "source": [
    "with nlp.disable_pipes():\n",
    "    test_vectors = np.array([nlp(tweet).vector for tweet in df_test['tweet_text']])\n",
    "    \n",
    "test_vectors.shape"
   ]
  },
  {
   "cell_type": "markdown",
   "metadata": {},
   "source": [
    "### Mean absolute error"
   ]
  },
  {
   "cell_type": "code",
   "execution_count": 16,
   "metadata": {},
   "outputs": [
    {
     "name": "stdout",
     "output_type": "stream",
     "text": [
      "Mean squared error for SVR: 0.21156409695029968\n",
      "Mean squared error for RANSACRegressor: 1.1875760714916923\n"
     ]
    }
   ],
   "source": [
    "from sklearn.metrics import mean_absolute_error\n",
    "\n",
    "X_test = test_vectors\n",
    "y_test = df_test['polarity']\n",
    "\n",
    "y_pred1 = regrModel.predict(X_test)\n",
    "y_pred2 = RANSACreg.predict(X_test)\n",
    "\n",
    "print(\"Mean squared error for SVR: \" + str(mean_absolute_error(y_test, y_pred1)))\n",
    "print(\"Mean squared error for RANSACRegressor: \" + str(mean_absolute_error(y_test, y_pred2)))"
   ]
  },
  {
   "cell_type": "markdown",
   "metadata": {},
   "source": [
    "### Coëfficient of determination"
   ]
  },
  {
   "cell_type": "code",
   "execution_count": 17,
   "metadata": {},
   "outputs": [
    {
     "name": "stdout",
     "output_type": "stream",
     "text": [
      "Coëfficient of determination (R^2) for SVR: 0.2480441831959157\n",
      "Coëfficient of determination (R^2) for RANSACRegressor: -26.609776246007264\n"
     ]
    }
   ],
   "source": [
    "print(\"Coëfficient of determination (R^2) for SVR: \" + str(regrModel.score(X_test, y_test)))\n",
    "print(\"Coëfficient of determination (R^2) for RANSACRegressor: \" + str(RANSACreg.score(X_test, y_test)))"
   ]
  },
  {
   "cell_type": "markdown",
   "metadata": {},
   "source": [
    "### Visual comparison of 2 models"
   ]
  },
  {
   "cell_type": "code",
   "execution_count": 21,
   "metadata": {},
   "outputs": [
    {
     "data": {
      "image/png": "[encoded data removed]",
      "text/plain": [
       "<Figure size 432x288 with 2 Axes>"
      ]
     },
     "metadata": {
      "needs_background": "light"
     },
     "output_type": "display_data"
    }
   ],
   "source": [
    "import matplotlib.pyplot as plt\n",
    "from sklearn.model_selection import cross_val_predict\n",
    "\n",
    "def error_compare(mods,X,y):\n",
    "    f, (ax1, ax2) = plt.subplots(2, sharex=True, sharey=True)\n",
    "    for mod, ax in ((mods[0], ax1),(mods[1], ax2)):\n",
    "        predicted = cross_val_predict(mod[0], X, y, cv=12)\n",
    "        ax.scatter(y, predicted, c='#F2BE2C')\n",
    "        ax.set_title('Prediction Error for %s' % mod[1])\n",
    "        ax.plot([y.min(), y.max()], [y.min(), y.max()], 'k--', lw=4, c='#2B94E9')\n",
    "        ax.set_ylabel('Predicted')\n",
    "    plt.xlabel('Measured')\n",
    "    plt.savefig('prediction_error.png', bbox_inches=\"tight\")\n",
    "    \n",
    "models = np.array([(svm.SVR(),'SVR'), (RANSACRegressor(),'RANSAC')])\n",
    "error_compare(models, X,y)"
   ]
  },
  {
   "cell_type": "code",
   "execution_count": 24,
   "metadata": {},
   "outputs": [
    {
     "data": {
      "image/png": "[encoded data removed]",
      "text/plain": [
       "<Figure size 432x288 with 2 Axes>"
      ]
     },
     "metadata": {
      "needs_background": "light"
     },
     "output_type": "display_data"
    }
   ],
   "source": [
    "from sklearn.model_selection import train_test_split\n",
    "\n",
    "def resids_compare(mods,X,y):\n",
    "    f, (ax1, ax2) = plt.subplots(2, sharex=True, sharey=True)\n",
    "    plt.title('Plotting residuals using training (blue) and test (green) data')\n",
    "    for m, ax in ((mods[0], ax1),(mods[1], ax2)):\n",
    "        m[0].fit(X, y)\n",
    "        ax.scatter(m[0].predict(X[:124]), m[0].predict(X[:124])-y[:124],c='#2B94E9',s=40,alpha=0.5)\n",
    "        ax.scatter(m[0].predict(X_test), m[0].predict(X_test)-y_test,c='#94BA65',s=40)\n",
    "        ax.hlines(y=0, xmin=-10, xmax=100)\n",
    "        ax.set_title('Residuals for %s' %m[1])\n",
    "        ax.set_ylabel('Residuals')\n",
    "    ax2.set_xlabel('Predictions')    \n",
    "    plt.xlim([-2, 2])        # Adjust according to your dataset\n",
    "    plt.ylim([-1.5,1.5])  \n",
    "    plt.savefig('residuals.png', bbox_inches=\"tight\")\n",
    "    \n",
    "models = np.array([(svm.SVR(),'SVR'), (RANSACRegressor(),'RANSAC')])\n",
    "resids_compare(models, X,y)"
   ]
  },
  {
   "cell_type": "code",
   "execution_count": null,
   "metadata": {},
   "outputs": [],
   "source": []
  }
 ],
 "metadata": {
  "kernelspec": {
   "display_name": "Python 3",
   "language": "python",
   "name": "python3"
  },
  "language_info": {
   "codemirror_mode": {
    "name": "ipython",
    "version": 3
   },
   "file_extension": ".py",
   "mimetype": "text/x-python",
   "name": "python",
   "nbconvert_exporter": "python",
   "pygments_lexer": "ipython3",
   "version": "3.8.8"
  }
 },
 "nbformat": 4,
 "nbformat_minor": 4
}
