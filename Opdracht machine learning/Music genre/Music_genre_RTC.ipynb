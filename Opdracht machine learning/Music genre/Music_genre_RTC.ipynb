{
 "cells": [
  {
   "cell_type": "code",
   "execution_count": 1,
   "id": "ca5e9c61",
   "metadata": {
    "scrolled": true
   },
   "outputs": [],
   "source": [
    "import numpy as np\n",
    "import pandas as pd\n",
    "import sklearn as skl\n",
    "\n",
    "df = pd.read_csv(\"C:/Users/gille/Desktop/Machine learning/Opdracht/music_genre.csv\")\n",
    "df.columns\n",
    "\n",
    "seed = 42\n",
    "np.random.seed(seed)"
   ]
  },
  {
   "cell_type": "markdown",
   "id": "38d6e2f5",
   "metadata": {},
   "source": [
    "# Preprocessing the data\n",
    "\n",
    "Before we can get to work testing models we have to clean up our data by dropping irrelevant columns and transforming the non-numerical ones.<br />\n",
    "First let's remove the columns we will not need and find out which columns are non numerical. "
   ]
  },
  {
   "cell_type": "code",
   "execution_count": 2,
   "id": "fcc4cb3d",
   "metadata": {},
   "outputs": [
    {
     "name": "stdout",
     "output_type": "stream",
     "text": [
      "Categorical variables:\n",
      "['key', 'mode']\n"
     ]
    }
   ],
   "source": [
    "from sklearn.model_selection import train_test_split\n",
    "\n",
    "df = pd.read_csv(\"C:/Users/gille/Desktop/Machine learning/Opdracht/music_genre.csv\")\n",
    "\n",
    "# Silently remove the 4 rows with all nan values\n",
    "df = df.dropna(how='all')\n",
    "\n",
    "# First let's do something about the tempo which is just non numerical because NaN values are instead given the value '?'\n",
    "df.tempo = df.tempo.replace('?', np.NaN).astype('float64')\n",
    "\n",
    "# Same for the '-1' values in duration_ms:\n",
    "df.duration_ms = df.duration_ms.replace(-1.0, np.nan)\n",
    "\n",
    "# Remove non significant columns\n",
    "X = df.drop(['instance_id', 'artist_name', 'track_name', 'obtained_date', 'music_genre'], axis=1)\n",
    "\n",
    "# Select target prediction data\n",
    "y = df.music_genre\n",
    "\n",
    "X_train, X_val, y_train, y_val = train_test_split(X, y, random_state = seed)\n",
    "\n",
    "s = (X_train.dtypes == 'object')\n",
    "object_cols = list(s[s].index)\n",
    "\n",
    "print(\"Categorical variables:\")\n",
    "print(object_cols)\n"
   ]
  },
  {
   "cell_type": "markdown",
   "id": "4c495c18",
   "metadata": {},
   "source": [
    "Next let's do something about the 'mode' column. This column only contains values 'Minor' and 'Major'. We can simply replace those by 0 and 1 to create a binary map that the models can use:"
   ]
  },
  {
   "cell_type": "code",
   "execution_count": 3,
   "id": "b6245845",
   "metadata": {},
   "outputs": [],
   "source": [
    "df = df.replace('Minor', 0)\n",
    "df = df.replace('Major', 1)"
   ]
  },
  {
   "cell_type": "markdown",
   "id": "b27c3d98",
   "metadata": {},
   "source": [
    "Key can be any letter A-G with or without a hashtag, this corresponds with 12 possible values (B and E only occur without the hashtag). Genre is the column we are trying to predict, it contains one of 10 genres. We now have to choose between ordinal encoding or one-hot encoding for these columns. Ordinal column may be meaningful for key but for genre this seems to be less logical. We will however use ordinal encoding for both columns because of the added entries when using one-hot encoding for columns with a higher cardinality."
   ]
  },
  {
   "cell_type": "code",
   "execution_count": 4,
   "id": "406a7468",
   "metadata": {},
   "outputs": [
    {
     "name": "stdout",
     "output_type": "stream",
     "text": [
      "Categorical variables:\n",
      "[]\n"
     ]
    }
   ],
   "source": [
    "from sklearn.preprocessing import LabelEncoder\n",
    "\n",
    "key_encoder = LabelEncoder()\n",
    "df.key = key_encoder.fit_transform(df.key)\n",
    "\n",
    "genre_encoder = LabelEncoder()\n",
    "df.music_genre = genre_encoder.fit_transform(df.music_genre)\n",
    "\n",
    "# Remove non significant columns\n",
    "X = df.drop(['instance_id', 'artist_name', 'track_name', 'obtained_date', 'music_genre'], axis=1)\n",
    "\n",
    "# Select target prediction data\n",
    "y = df.music_genre\n",
    "\n",
    "X_train, X_val, y_train, y_val = train_test_split(X, y, random_state = seed)\n",
    "\n",
    "s = (X_train.dtypes == 'object')\n",
    "object_cols = list(s[s].index)\n",
    "\n",
    "print(\"Categorical variables:\")\n",
    "print(object_cols)"
   ]
  },
  {
   "cell_type": "markdown",
   "id": "10115c0c",
   "metadata": {},
   "source": [
    "All that is left to do now is determine how to handle the missing values for duration and tempo, but we will decide this later for every model based on what method performs better."
   ]
  },
  {
   "cell_type": "markdown",
   "id": "ecb6fc6b",
   "metadata": {},
   "source": [
    "# Finding the right model\n",
    "\n",
    "We prepare for our search by writing a function that will help us decide which models and features perform best. We chose to base our scoring on the model.score finction since calculating the mean average error takes quite some time and the model.score function seems to give a better indication of how good our model is.\n"
   ]
  },
  {
   "cell_type": "code",
   "execution_count": 5,
   "id": "5716b2b0",
   "metadata": {},
   "outputs": [],
   "source": [
    "import numpy as np\n",
    "import pandas as pd\n",
    "import sklearn as skl\n",
    "from sklearn.model_selection import train_test_split\n",
    "from sklearn.metrics import accuracy_score\n",
    "\n",
    "# a function to test our features and models against each other\n",
    "def test_usability_parameters(X_valid, X_training, y_valid, y_training, relevant_features, model):\n",
    "    \n",
    "    X_v = X_valid[relevant_features]\n",
    "    X_t = X_training[relevant_features]\n",
    "    \n",
    "    # Fit the model\n",
    "    \n",
    "    model.fit(X_t, y_training)\n",
    "    predictions = model.predict(X_v)\n",
    "    \n",
    "    score = model.score(X_v, y_valid)\n",
    "    \n",
    "    #val_acc = accuracy_score(y_valid, predictions)\n",
    "\n",
    "    # following line to see the validation_mae\n",
    "    # print(', '.join(relevant_features) + ':' + str(val_mae))\n",
    "    \n",
    "    return score"
   ]
  },
  {
   "cell_type": "markdown",
   "id": "76a2cd4d",
   "metadata": {},
   "source": [
    "## Attempt 1: Random forest"
   ]
  },
  {
   "cell_type": "code",
   "execution_count": 6,
   "id": "cb736dbc",
   "metadata": {},
   "outputs": [],
   "source": [
    "from sklearn.ensemble import RandomForestClassifier\n",
    "model = RandomForestClassifier(random_state=seed, n_jobs=-1)\n",
    "# n_jobs allows the use of multiple threads/cores to speed up calculations"
   ]
  },
  {
   "cell_type": "markdown",
   "id": "ad0ef3f4",
   "metadata": {},
   "source": [
    "### Missing value handling\n",
    "As mentioned before we still have to decide how to handle missing values."
   ]
  },
  {
   "cell_type": "code",
   "execution_count": 7,
   "id": "a538fdaf",
   "metadata": {},
   "outputs": [
    {
     "name": "stdout",
     "output_type": "stream",
     "text": [
      "duration_ms    3699\n",
      "tempo          3749\n",
      "dtype: int64\n"
     ]
    }
   ],
   "source": [
    "# Number of missing values in each column of training data\n",
    "missing_val_count_by_column = (X_train.isnull().sum())\n",
    "print(missing_val_count_by_column[missing_val_count_by_column>0])"
   ]
  },
  {
   "cell_type": "markdown",
   "id": "f868a55d",
   "metadata": {},
   "source": [
    "We still have about 3700 missing values for both duration and tempo. This could mean a loss of up to 20% of our data if we would just drop all rows with missing values. Let's find out what's the best course of action: dropping columns, dropping rows or using an imputer."
   ]
  },
  {
   "cell_type": "code",
   "execution_count": 8,
   "id": "5cdd3c9a",
   "metadata": {},
   "outputs": [
    {
     "data": {
      "text/plain": [
       "0.5336"
      ]
     },
     "execution_count": 8,
     "metadata": {},
     "output_type": "execute_result"
    }
   ],
   "source": [
    "# First lets try dropping columns\n",
    "cols_without_missing = [col for col in X_train.columns\n",
    "                     if X_train[col].notnull().all()]\n",
    "\n",
    "\n",
    "test_usability_parameters(X_val, X_train, y_val, y_train, cols_without_missing, model)"
   ]
  },
  {
   "cell_type": "code",
   "execution_count": 9,
   "id": "e0d4bd10",
   "metadata": {},
   "outputs": [
    {
     "data": {
      "text/plain": [
       "0.5517751479289941"
      ]
     },
     "execution_count": 9,
     "metadata": {},
     "output_type": "execute_result"
    }
   ],
   "source": [
    "# Next let's try removing all NaN containing rows\n",
    "df_nonan = df.dropna()\n",
    "\n",
    "# Remove non significant columns\n",
    "X_nonan = df_nonan.drop(['instance_id', 'artist_name', 'track_name', 'obtained_date', 'music_genre'], axis=1)\n",
    "\n",
    "# Select target prediction data\n",
    "y_nonan = df_nonan.music_genre\n",
    "\n",
    "X_t, X_v, y_t, y_v = train_test_split(X_nonan, y_nonan, random_state = seed)\n",
    "\n",
    "test_usability_parameters(X_v, X_t, y_v, y_t, X_v.columns, model)"
   ]
  },
  {
   "cell_type": "code",
   "execution_count": 10,
   "id": "3bf61afd",
   "metadata": {},
   "outputs": [
    {
     "data": {
      "text/plain": [
       "0.5336"
      ]
     },
     "execution_count": 10,
     "metadata": {},
     "output_type": "execute_result"
    }
   ],
   "source": [
    "from sklearn.impute import SimpleImputer\n",
    "\n",
    "# Imputation\n",
    "final_imputer = SimpleImputer(strategy='median')\n",
    "final_X_train = pd.DataFrame(final_imputer.fit_transform(X_train))\n",
    "final_X_valid = pd.DataFrame(final_imputer.transform(X_val))\n",
    "\n",
    "# Imputation removed column names; put them back\n",
    "final_X_train.columns = X_train.columns\n",
    "final_X_valid.columns = X_val.columns\n",
    "\n",
    "test_usability_parameters(final_X_valid, final_X_train, y_val, y_train, cols_without_missing, model)"
   ]
  },
  {
   "cell_type": "code",
   "execution_count": 11,
   "id": "b2fc6859",
   "metadata": {},
   "outputs": [
    {
     "data": {
      "text/plain": [
       "0.5336"
      ]
     },
     "execution_count": 11,
     "metadata": {},
     "output_type": "execute_result"
    }
   ],
   "source": [
    "# Imputation\n",
    "final_imputer = SimpleImputer(strategy='mean')\n",
    "final_X_train = pd.DataFrame(final_imputer.fit_transform(X_train))\n",
    "final_X_valid = pd.DataFrame(final_imputer.transform(X_val))\n",
    "\n",
    "# Imputation removed column names; put them back\n",
    "final_X_train.columns = X_train.columns\n",
    "final_X_valid.columns = X_val.columns\n",
    "\n",
    "test_usability_parameters(final_X_valid, final_X_train, y_val, y_train, cols_without_missing, model)"
   ]
  },
  {
   "cell_type": "code",
   "execution_count": 12,
   "id": "ea3ee293",
   "metadata": {},
   "outputs": [
    {
     "data": {
      "text/plain": [
       "0.5336"
      ]
     },
     "execution_count": 12,
     "metadata": {},
     "output_type": "execute_result"
    }
   ],
   "source": [
    "# Imputation\n",
    "final_imputer = SimpleImputer(strategy='most_frequent')\n",
    "final_X_train = pd.DataFrame(final_imputer.fit_transform(X_train))\n",
    "final_X_valid = pd.DataFrame(final_imputer.transform(X_val))\n",
    "\n",
    "# Imputation removed column names; put them back\n",
    "final_X_train.columns = X_train.columns\n",
    "final_X_valid.columns = X_val.columns\n",
    "\n",
    "test_usability_parameters(final_X_valid, final_X_train, y_val, y_train, cols_without_missing, model)"
   ]
  },
  {
   "cell_type": "markdown",
   "id": "b3c8998c",
   "metadata": {},
   "source": [
    "We see that even though some data will get lost, deleting the rows with the missing values gives the best results. From now on we will us this method to handle our missing values for this model."
   ]
  },
  {
   "cell_type": "code",
   "execution_count": 13,
   "id": "e24f2069",
   "metadata": {},
   "outputs": [],
   "source": [
    "# Remove all NaN containing rows\n",
    "df_nonan = df.dropna()\n",
    "\n",
    "# Remove non significant columns\n",
    "X_nonan = df_nonan.drop(['instance_id', 'artist_name', 'track_name', 'obtained_date', 'music_genre'], axis=1)\n",
    "\n",
    "# Select target prediction data\n",
    "y_nonan = df_nonan.music_genre\n",
    "\n",
    "X_train, X_val, y_train, y_val = train_test_split(X_nonan, y_nonan, random_state = seed)"
   ]
  },
  {
   "cell_type": "markdown",
   "id": "49795128",
   "metadata": {},
   "source": [
    "### Feature picking\n",
    "\n",
    "#### Removing one feature\n",
    "First we will take a look at how each feature influences our results, are some better off ignored?"
   ]
  },
  {
   "cell_type": "code",
   "execution_count": 14,
   "id": "a7973b9e",
   "metadata": {},
   "outputs": [],
   "source": [
    "model = RandomForestClassifier(criterion='entropy', random_state=seed, n_jobs=-1)"
   ]
  },
  {
   "cell_type": "code",
   "execution_count": 15,
   "id": "110d767a",
   "metadata": {},
   "outputs": [
    {
     "data": {
      "text/html": [
       "<div>\n",
       "<style scoped>\n",
       "    .dataframe tbody tr th:only-of-type {\n",
       "        vertical-align: middle;\n",
       "    }\n",
       "\n",
       "    .dataframe tbody tr th {\n",
       "        vertical-align: top;\n",
       "    }\n",
       "\n",
       "    .dataframe thead th {\n",
       "        text-align: right;\n",
       "    }\n",
       "</style>\n",
       "<table border=\"1\" class=\"dataframe\">\n",
       "  <thead>\n",
       "    <tr style=\"text-align: right;\">\n",
       "      <th></th>\n",
       "      <th>feature</th>\n",
       "      <th>Value</th>\n",
       "    </tr>\n",
       "  </thead>\n",
       "  <tbody>\n",
       "    <tr>\n",
       "      <th>0</th>\n",
       "      <td>energy</td>\n",
       "      <td>0.553945</td>\n",
       "    </tr>\n",
       "    <tr>\n",
       "      <th>0</th>\n",
       "      <td>key</td>\n",
       "      <td>0.551874</td>\n",
       "    </tr>\n",
       "    <tr>\n",
       "      <th>0</th>\n",
       "      <td>mode</td>\n",
       "      <td>0.551479</td>\n",
       "    </tr>\n",
       "    <tr>\n",
       "      <th>0</th>\n",
       "      <td>liveness</td>\n",
       "      <td>0.550690</td>\n",
       "    </tr>\n",
       "    <tr>\n",
       "      <th>0</th>\n",
       "      <td>tempo</td>\n",
       "      <td>0.547337</td>\n",
       "    </tr>\n",
       "  </tbody>\n",
       "</table>\n",
       "</div>"
      ],
      "text/plain": [
       "    feature     Value\n",
       "0    energy  0.553945\n",
       "0       key  0.551874\n",
       "0      mode  0.551479\n",
       "0  liveness  0.550690\n",
       "0     tempo  0.547337"
      ]
     },
     "execution_count": 15,
     "metadata": {},
     "output_type": "execute_result"
    }
   ],
   "source": [
    "columns = X_train.columns\n",
    "\n",
    "data = pd.DataFrame({\"feature\": [],\"Value\": [],},)\n",
    "\n",
    "for f in columns:\n",
    "    feature = [f]\n",
    "    X_temp = X_train.drop(feature, axis=1)\n",
    "    columns_temp = X_temp.columns\n",
    "    val = test_usability_parameters(X_val, X_train, y_val, y_train, columns_temp, model)\n",
    "    #print(val)\n",
    "    data = data.append(pd.DataFrame({\"feature\": feature,\"Value\": [val],},))\n",
    "\n",
    "\n",
    "data.sort_values(by=['Value'], ascending=False).head()"
   ]
  },
  {
   "cell_type": "markdown",
   "id": "f2c133ec",
   "metadata": {},
   "source": [
    "We can see that removing the energy column results in a slightly better score, all other changes seem to make the model worse or barely change the outcome."
   ]
  },
  {
   "cell_type": "markdown",
   "id": "eb919d7f",
   "metadata": {},
   "source": [
    "#### Two features\n",
    "Now for 2 features every time. To limit the execution time to less then an hour we only try removing energy along with one other feature each time:"
   ]
  },
  {
   "cell_type": "code",
   "execution_count": 16,
   "id": "63d7a341",
   "metadata": {},
   "outputs": [
    {
     "data": {
      "text/html": [
       "<div>\n",
       "<style scoped>\n",
       "    .dataframe tbody tr th:only-of-type {\n",
       "        vertical-align: middle;\n",
       "    }\n",
       "\n",
       "    .dataframe tbody tr th {\n",
       "        vertical-align: top;\n",
       "    }\n",
       "\n",
       "    .dataframe thead th {\n",
       "        text-align: right;\n",
       "    }\n",
       "</style>\n",
       "<table border=\"1\" class=\"dataframe\">\n",
       "  <thead>\n",
       "    <tr style=\"text-align: right;\">\n",
       "      <th></th>\n",
       "      <th>features</th>\n",
       "      <th>Value</th>\n",
       "    </tr>\n",
       "  </thead>\n",
       "  <tbody>\n",
       "    <tr>\n",
       "      <th>0</th>\n",
       "      <td>[energy, key]</td>\n",
       "      <td>0.553748</td>\n",
       "    </tr>\n",
       "    <tr>\n",
       "      <th>0</th>\n",
       "      <td>[energy, liveness]</td>\n",
       "      <td>0.551874</td>\n",
       "    </tr>\n",
       "    <tr>\n",
       "      <th>0</th>\n",
       "      <td>[energy, mode]</td>\n",
       "      <td>0.549310</td>\n",
       "    </tr>\n",
       "    <tr>\n",
       "      <th>0</th>\n",
       "      <td>[energy, tempo]</td>\n",
       "      <td>0.547929</td>\n",
       "    </tr>\n",
       "    <tr>\n",
       "      <th>0</th>\n",
       "      <td>[energy, loudness]</td>\n",
       "      <td>0.539250</td>\n",
       "    </tr>\n",
       "  </tbody>\n",
       "</table>\n",
       "</div>"
      ],
      "text/plain": [
       "             features     Value\n",
       "0       [energy, key]  0.553748\n",
       "0  [energy, liveness]  0.551874\n",
       "0      [energy, mode]  0.549310\n",
       "0     [energy, tempo]  0.547929\n",
       "0  [energy, loudness]  0.539250"
      ]
     },
     "execution_count": 16,
     "metadata": {},
     "output_type": "execute_result"
    }
   ],
   "source": [
    "data = pd.DataFrame({\"features\": [],\"Value\": [],},)\n",
    "\n",
    "\n",
    "f1 = 'energy'\n",
    "for j in range(len(columns)):\n",
    "    if columns[j] != f1:\n",
    "        f2 = columns[j]\n",
    "        features = [f1, f2]\n",
    "        X_temp = X_train.drop(features, axis=1)\n",
    "        columns_temp = X_temp.columns\n",
    "        val = test_usability_parameters(X_val, X_train, y_val, y_train, columns_temp, model)\n",
    "        #print(val)\n",
    "        data = data.append(pd.DataFrame({\"features\": [features],\"Value\": [val],},))\n",
    "\n",
    "data.sort_values(by=['Value'], ascending=False).head()\n",
    "    "
   ]
  },
  {
   "cell_type": "markdown",
   "id": "efedfa7d",
   "metadata": {},
   "source": [
    "As expected no improvement occurs. We will therefore only remove the 'energy' column for the sole purpose of keeping the model as simple as possible and the slight improvement.  "
   ]
  },
  {
   "cell_type": "code",
   "execution_count": 17,
   "id": "f13026e7-d301-4989-984e-0f8bd521670d",
   "metadata": {},
   "outputs": [],
   "source": [
    "X_train_final = X_train.drop(['energy'], axis=1)\n",
    "X_val_final = X_val.drop(['energy'], axis=1) \n",
    "\n",
    "columns = X_train_final.columns"
   ]
  },
  {
   "cell_type": "markdown",
   "id": "57950023-bf6a-4f70-a8ed-d73486367a6c",
   "metadata": {},
   "source": [
    "### Selecting a criterion\n",
    "For our random forest classification model the criterion decides how the best split is selected. The default criterion is entropy but we can still try the other option:"
   ]
  },
  {
   "cell_type": "code",
   "execution_count": 18,
   "id": "00da108c",
   "metadata": {},
   "outputs": [
    {
     "data": {
      "text/plain": [
       "0.5539447731755424"
      ]
     },
     "execution_count": 18,
     "metadata": {},
     "output_type": "execute_result"
    }
   ],
   "source": [
    "model = RandomForestClassifier(criterion='entropy', random_state=seed, n_jobs=-1)\n",
    "test_usability_parameters(X_val_final, X_train_final, y_val, y_train, columns, model)"
   ]
  },
  {
   "cell_type": "code",
   "execution_count": 19,
   "id": "a491e03d",
   "metadata": {
    "tags": []
   },
   "outputs": [
    {
     "data": {
      "text/plain": [
       "0.5551282051282052"
      ]
     },
     "execution_count": 19,
     "metadata": {},
     "output_type": "execute_result"
    }
   ],
   "source": [
    "model = RandomForestClassifier(criterion='gini' , random_state=seed, n_jobs=-1)\n",
    "test_usability_parameters(X_val_final, X_train_final, y_val, y_train, columns, model)"
   ]
  },
  {
   "cell_type": "markdown",
   "id": "5abb049a",
   "metadata": {},
   "source": [
    "The gini criterion slightly outperforms the entropy criterion. We will be using the gini criterion."
   ]
  },
  {
   "cell_type": "markdown",
   "id": "313d9e89",
   "metadata": {},
   "source": [
    "### Forest size\n",
    "As another attempt to improve our random forest model we will try to play around with some different values for 'n_estimators'."
   ]
  },
  {
   "cell_type": "code",
   "execution_count": 20,
   "id": "c5f27080",
   "metadata": {},
   "outputs": [
    {
     "data": {
      "text/html": [
       "<div>\n",
       "<style scoped>\n",
       "    .dataframe tbody tr th:only-of-type {\n",
       "        vertical-align: middle;\n",
       "    }\n",
       "\n",
       "    .dataframe tbody tr th {\n",
       "        vertical-align: top;\n",
       "    }\n",
       "\n",
       "    .dataframe thead th {\n",
       "        text-align: right;\n",
       "    }\n",
       "</style>\n",
       "<table border=\"1\" class=\"dataframe\">\n",
       "  <thead>\n",
       "    <tr style=\"text-align: right;\">\n",
       "      <th></th>\n",
       "      <th>n_estimators</th>\n",
       "      <th>Value</th>\n",
       "    </tr>\n",
       "  </thead>\n",
       "  <tbody>\n",
       "    <tr>\n",
       "      <th>0</th>\n",
       "      <td>180.0</td>\n",
       "      <td>0.557890</td>\n",
       "    </tr>\n",
       "    <tr>\n",
       "      <th>0</th>\n",
       "      <td>260.0</td>\n",
       "      <td>0.557791</td>\n",
       "    </tr>\n",
       "    <tr>\n",
       "      <th>0</th>\n",
       "      <td>120.0</td>\n",
       "      <td>0.557495</td>\n",
       "    </tr>\n",
       "    <tr>\n",
       "      <th>0</th>\n",
       "      <td>190.0</td>\n",
       "      <td>0.557396</td>\n",
       "    </tr>\n",
       "    <tr>\n",
       "      <th>0</th>\n",
       "      <td>210.0</td>\n",
       "      <td>0.557298</td>\n",
       "    </tr>\n",
       "    <tr>\n",
       "      <th>0</th>\n",
       "      <td>130.0</td>\n",
       "      <td>0.557101</td>\n",
       "    </tr>\n",
       "    <tr>\n",
       "      <th>0</th>\n",
       "      <td>140.0</td>\n",
       "      <td>0.557101</td>\n",
       "    </tr>\n",
       "    <tr>\n",
       "      <th>0</th>\n",
       "      <td>230.0</td>\n",
       "      <td>0.557002</td>\n",
       "    </tr>\n",
       "    <tr>\n",
       "      <th>0</th>\n",
       "      <td>270.0</td>\n",
       "      <td>0.556805</td>\n",
       "    </tr>\n",
       "    <tr>\n",
       "      <th>0</th>\n",
       "      <td>160.0</td>\n",
       "      <td>0.556607</td>\n",
       "    </tr>\n",
       "  </tbody>\n",
       "</table>\n",
       "</div>"
      ],
      "text/plain": [
       "   n_estimators     Value\n",
       "0         180.0  0.557890\n",
       "0         260.0  0.557791\n",
       "0         120.0  0.557495\n",
       "0         190.0  0.557396\n",
       "0         210.0  0.557298\n",
       "0         130.0  0.557101\n",
       "0         140.0  0.557101\n",
       "0         230.0  0.557002\n",
       "0         270.0  0.556805\n",
       "0         160.0  0.556607"
      ]
     },
     "execution_count": 20,
     "metadata": {},
     "output_type": "execute_result"
    }
   ],
   "source": [
    "data = pd.DataFrame({\"n_estimators\": [],\"Value\": [],},)\n",
    "\n",
    "for i in range(10,300,10):\n",
    "    model = RandomForestClassifier(criterion='gini', n_estimators=i, random_state=seed, n_jobs=-1)\n",
    "    \n",
    "    val = test_usability_parameters(X_val_final, X_train_final, y_val, y_train, columns, model)\n",
    "    #print(val)\n",
    "    data = data.append(pd.DataFrame({\"n_estimators\": [i],\"Value\": [val],},))\n",
    "\n",
    "data.sort_values(by=['Value'], ascending=False).head(10)"
   ]
  },
  {
   "cell_type": "code",
   "execution_count": 21,
   "id": "cd9bc810",
   "metadata": {},
   "outputs": [
    {
     "data": {
      "text/plain": [
       "<Figure size 432x288 with 0 Axes>"
      ]
     },
     "metadata": {},
     "output_type": "display_data"
    },
    {
     "data": {
      "image/png": "[encoded data removed]",
      "text/plain": [
       "<Figure size 432x288 with 1 Axes>"
      ]
     },
     "metadata": {
      "needs_background": "light"
     },
     "output_type": "display_data"
    }
   ],
   "source": [
    "import matplotlib.pyplot as plt\n",
    "\n",
    "plt.figure();\n",
    "data.plot(x='n_estimators',y='Value');\n",
    "plt.savefig(\"n_estimators.png\")"
   ]
  },
  {
   "cell_type": "markdown",
   "id": "1407bb32",
   "metadata": {},
   "source": [
    "We see the score reach somewhat of a high at n_estimators=120. After that it varies slightly, seemingly improving little by little. As the number of estimators rises so does the time needed to calculate everything. The best course of action therefore seems to be to keep n_estimators=120."
   ]
  },
  {
   "cell_type": "markdown",
   "id": "8a587457",
   "metadata": {},
   "source": [
    "### Maximum depth of trees\n",
    "Another parameter that could influence the accuracy of our model is the maximum depth of trees. Let's play around with some values to see if there is any improvement."
   ]
  },
  {
   "cell_type": "code",
   "execution_count": 22,
   "id": "6799151a",
   "metadata": {},
   "outputs": [
    {
     "data": {
      "text/html": [
       "<div>\n",
       "<style scoped>\n",
       "    .dataframe tbody tr th:only-of-type {\n",
       "        vertical-align: middle;\n",
       "    }\n",
       "\n",
       "    .dataframe tbody tr th {\n",
       "        vertical-align: top;\n",
       "    }\n",
       "\n",
       "    .dataframe thead th {\n",
       "        text-align: right;\n",
       "    }\n",
       "</style>\n",
       "<table border=\"1\" class=\"dataframe\">\n",
       "  <thead>\n",
       "    <tr style=\"text-align: right;\">\n",
       "      <th></th>\n",
       "      <th>max_depth</th>\n",
       "      <th>Value</th>\n",
       "    </tr>\n",
       "  </thead>\n",
       "  <tbody>\n",
       "    <tr>\n",
       "      <th>0</th>\n",
       "      <td>11.0</td>\n",
       "      <td>0.568639</td>\n",
       "    </tr>\n",
       "    <tr>\n",
       "      <th>0</th>\n",
       "      <td>9.0</td>\n",
       "      <td>0.568540</td>\n",
       "    </tr>\n",
       "    <tr>\n",
       "      <th>0</th>\n",
       "      <td>10.0</td>\n",
       "      <td>0.568146</td>\n",
       "    </tr>\n",
       "    <tr>\n",
       "      <th>0</th>\n",
       "      <td>13.0</td>\n",
       "      <td>0.566963</td>\n",
       "    </tr>\n",
       "    <tr>\n",
       "      <th>0</th>\n",
       "      <td>12.0</td>\n",
       "      <td>0.566371</td>\n",
       "    </tr>\n",
       "    <tr>\n",
       "      <th>0</th>\n",
       "      <td>16.0</td>\n",
       "      <td>0.564694</td>\n",
       "    </tr>\n",
       "    <tr>\n",
       "      <th>0</th>\n",
       "      <td>14.0</td>\n",
       "      <td>0.563314</td>\n",
       "    </tr>\n",
       "    <tr>\n",
       "      <th>0</th>\n",
       "      <td>8.0</td>\n",
       "      <td>0.561933</td>\n",
       "    </tr>\n",
       "    <tr>\n",
       "      <th>0</th>\n",
       "      <td>15.0</td>\n",
       "      <td>0.560552</td>\n",
       "    </tr>\n",
       "    <tr>\n",
       "      <th>0</th>\n",
       "      <td>17.0</td>\n",
       "      <td>0.560355</td>\n",
       "    </tr>\n",
       "  </tbody>\n",
       "</table>\n",
       "</div>"
      ],
      "text/plain": [
       "   max_depth     Value\n",
       "0       11.0  0.568639\n",
       "0        9.0  0.568540\n",
       "0       10.0  0.568146\n",
       "0       13.0  0.566963\n",
       "0       12.0  0.566371\n",
       "0       16.0  0.564694\n",
       "0       14.0  0.563314\n",
       "0        8.0  0.561933\n",
       "0       15.0  0.560552\n",
       "0       17.0  0.560355"
      ]
     },
     "execution_count": 22,
     "metadata": {},
     "output_type": "execute_result"
    }
   ],
   "source": [
    "data = pd.DataFrame({\"max_depth\": [],\"Value\": [],},)\n",
    "\n",
    "for i in range(1,20):\n",
    "    model = RandomForestClassifier(max_depth=i, criterion='gini', n_estimators=120, random_state=seed, n_jobs=-1)\n",
    "    \n",
    "    val = test_usability_parameters(X_val_final, X_train_final, y_val, y_train, columns, model)\n",
    "    #print(val)\n",
    "    data = data.append(pd.DataFrame({\"max_depth\": [i],\"Value\": [val],},))\n",
    "\n",
    "data.sort_values(by=['Value'], ascending=False).head(10)"
   ]
  },
  {
   "cell_type": "code",
   "execution_count": 23,
   "id": "b08e99e6",
   "metadata": {
    "slideshow": {
     "slide_type": "slide"
    },
    "tags": []
   },
   "outputs": [
    {
     "data": {
      "text/plain": [
       "<Figure size 432x288 with 0 Axes>"
      ]
     },
     "metadata": {},
     "output_type": "display_data"
    },
    {
     "data": {
      "image/png": "[encoded data removed]",
      "text/plain": [
       "<Figure size 432x288 with 1 Axes>"
      ]
     },
     "metadata": {
      "needs_background": "light"
     },
     "output_type": "display_data"
    }
   ],
   "source": [
    "plt.figure();\n",
    "data.plot(x='max_depth',y='Value');"
   ]
  },
  {
   "cell_type": "markdown",
   "id": "ffc36627",
   "metadata": {},
   "source": [
    "We reach the best score at max_depth=11."
   ]
  },
  {
   "cell_type": "markdown",
   "id": "71118fb6-f16a-4a5d-95c5-0b475c405982",
   "metadata": {},
   "source": [
    "### Maximum features\n",
    "Another parameter that could influence the accuracy of our model is the number of features to consider when looking for the best split. Let's see if we can improve on the default value."
   ]
  },
  {
   "cell_type": "code",
   "execution_count": 24,
   "id": "b437dafb-78dc-4731-b475-3b8b52f1bcca",
   "metadata": {},
   "outputs": [
    {
     "data": {
      "text/html": [
       "<div>\n",
       "<style scoped>\n",
       "    .dataframe tbody tr th:only-of-type {\n",
       "        vertical-align: middle;\n",
       "    }\n",
       "\n",
       "    .dataframe tbody tr th {\n",
       "        vertical-align: top;\n",
       "    }\n",
       "\n",
       "    .dataframe thead th {\n",
       "        text-align: right;\n",
       "    }\n",
       "</style>\n",
       "<table border=\"1\" class=\"dataframe\">\n",
       "  <thead>\n",
       "    <tr style=\"text-align: right;\">\n",
       "      <th></th>\n",
       "      <th>max_features</th>\n",
       "      <th>Value</th>\n",
       "    </tr>\n",
       "  </thead>\n",
       "  <tbody>\n",
       "    <tr>\n",
       "      <th>0</th>\n",
       "      <td>6.0</td>\n",
       "      <td>0.570118</td>\n",
       "    </tr>\n",
       "    <tr>\n",
       "      <th>0</th>\n",
       "      <td>3.0</td>\n",
       "      <td>0.568639</td>\n",
       "    </tr>\n",
       "    <tr>\n",
       "      <th>0</th>\n",
       "      <td>4.0</td>\n",
       "      <td>0.567456</td>\n",
       "    </tr>\n",
       "    <tr>\n",
       "      <th>0</th>\n",
       "      <td>5.0</td>\n",
       "      <td>0.567160</td>\n",
       "    </tr>\n",
       "    <tr>\n",
       "      <th>0</th>\n",
       "      <td>9.0</td>\n",
       "      <td>0.564892</td>\n",
       "    </tr>\n",
       "    <tr>\n",
       "      <th>0</th>\n",
       "      <td>2.0</td>\n",
       "      <td>0.564694</td>\n",
       "    </tr>\n",
       "    <tr>\n",
       "      <th>0</th>\n",
       "      <td>8.0</td>\n",
       "      <td>0.564398</td>\n",
       "    </tr>\n",
       "    <tr>\n",
       "      <th>0</th>\n",
       "      <td>7.0</td>\n",
       "      <td>0.563314</td>\n",
       "    </tr>\n",
       "    <tr>\n",
       "      <th>0</th>\n",
       "      <td>11.0</td>\n",
       "      <td>0.561736</td>\n",
       "    </tr>\n",
       "    <tr>\n",
       "      <th>0</th>\n",
       "      <td>10.0</td>\n",
       "      <td>0.560750</td>\n",
       "    </tr>\n",
       "  </tbody>\n",
       "</table>\n",
       "</div>"
      ],
      "text/plain": [
       "   max_features     Value\n",
       "0           6.0  0.570118\n",
       "0           3.0  0.568639\n",
       "0           4.0  0.567456\n",
       "0           5.0  0.567160\n",
       "0           9.0  0.564892\n",
       "0           2.0  0.564694\n",
       "0           8.0  0.564398\n",
       "0           7.0  0.563314\n",
       "0          11.0  0.561736\n",
       "0          10.0  0.560750"
      ]
     },
     "execution_count": 24,
     "metadata": {},
     "output_type": "execute_result"
    }
   ],
   "source": [
    "data = pd.DataFrame({\"max_features\": [],\"Value\": [],},)\n",
    "\n",
    "for i in range(1,13):\n",
    "    model = RandomForestClassifier(max_depth=11, criterion='gini', n_estimators=120, max_features=i , random_state=seed, n_jobs=-1)\n",
    "    \n",
    "    val = test_usability_parameters(X_val_final, X_train_final, y_val, y_train, columns, model)\n",
    "    #print(val)\n",
    "    data = data.append(pd.DataFrame({\"max_features\": [i],\"Value\": [val],},))\n",
    "\n",
    "data.sort_values(by=['Value'], ascending=False).head(10)"
   ]
  },
  {
   "cell_type": "code",
   "execution_count": 25,
   "id": "4a37a816-702a-4fbf-9758-3c6bede4dfc8",
   "metadata": {},
   "outputs": [
    {
     "data": {
      "text/plain": [
       "<Figure size 432x288 with 0 Axes>"
      ]
     },
     "metadata": {},
     "output_type": "display_data"
    },
    {
     "data": {
      "image/png": "[encoded data removed]",
      "text/plain": [
       "<Figure size 432x288 with 1 Axes>"
      ]
     },
     "metadata": {
      "needs_background": "light"
     },
     "output_type": "display_data"
    }
   ],
   "source": [
    "plt.figure();\n",
    "data.plot(x='max_features',y='Value');"
   ]
  },
  {
   "cell_type": "markdown",
   "id": "5364fb2f",
   "metadata": {},
   "source": [
    "We could go on and play around with all the different parameters of the random tree regression model, but since we only have a score of around 0.6 at this point it is highly unlikely a decent model will be found this way.\n",
    "In conclusion we can say that even though there were improvements, this model appears to be unable to accurately predict the genre of a song based on the given features.<br />\n",
    "<br />\n",
    "In hindsight this was to be expected since we are using a general purpose model on a task that is known to be very hard and specific. For our next model we will try and find a more advanced model."
   ]
  },
  {
   "cell_type": "markdown",
   "id": "f164c75e-1026-441c-82e4-f99b457d4d91",
   "metadata": {},
   "source": [
    "## Visualization of the result"
   ]
  },
  {
   "cell_type": "code",
   "execution_count": 35,
   "id": "969c3e9b-e5c8-45a7-9cfa-76beee5afb55",
   "metadata": {},
   "outputs": [],
   "source": [
    "import itertools\n",
    "def plot_confusion_matrix(cm, classes,\n",
    "                          title='Confusion matrix',\n",
    "                          cmap=plt.cm.Blues):\n",
    "    \"\"\"\n",
    "    This function prints and plots the confusion matrix.\n",
    "    Normalization can be applied by setting `normalize=True`.\n",
    "    \"\"\"\n",
    "\n",
    "    cm = cm.astype('float') / cm.sum(axis=1)[:, np.newaxis]\n",
    "\n",
    "    plt.imshow(cm, interpolation='nearest', cmap=cmap)\n",
    "    plt.title(title, fontsize=30)\n",
    "    plt.colorbar()\n",
    "    tick_marks = np.arange(len(classes))\n",
    "    plt.xticks(tick_marks, classes, rotation=90, fontsize=22)\n",
    "    plt.yticks(tick_marks, classes, fontsize=22)\n",
    "\n",
    "    fmt = '.2f'\n",
    "    thresh = cm.max() / 2.\n",
    "    for i, j in itertools.product(range(cm.shape[0]), range(cm.shape[1])):\n",
    "        plt.text(j, i, format(cm[i, j], fmt),\n",
    "                 horizontalalignment=\"center\",\n",
    "                 color=\"white\" if cm[i, j] > thresh else \"black\")\n",
    "\n",
    "    plt.ylabel('True label', fontsize=25)\n",
    "    plt.xlabel('Predicted label', fontsize=25)"
   ]
  },
  {
   "cell_type": "code",
   "execution_count": 46,
   "id": "bdb4fb19-1f91-4a1c-becd-36db10e1d150",
   "metadata": {},
   "outputs": [
    {
     "data": {
      "image/png": "[encoded data removed]",
      "text/plain": [
       "<Figure size 1440x1296 with 2 Axes>"
      ]
     },
     "metadata": {},
     "output_type": "display_data"
    }
   ],
   "source": [
    "from sklearn.metrics import confusion_matrix\n",
    "\n",
    "model = RandomForestClassifier(max_depth=11, criterion='gini', n_estimators=120, max_features=6 , random_state=seed, n_jobs=-1)\n",
    "\n",
    "model.fit(X_train_final, y_train)\n",
    "y_pred = model.predict(X_val_final)\n",
    "\n",
    "cnf_matrix = confusion_matrix(y_val, y_pred)\n",
    "\n",
    "plt.figure(figsize=(20,18))\n",
    "plot_confusion_matrix(cnf_matrix, classes=genre_encoder.inverse_transform(df_nonan.music_genre.unique()), title=\"Confusion matrix\")\n",
    "plt.savefig('conf_matrix_RTC.png', bbox_inches=\"tight\")"
   ]
  },
  {
   "cell_type": "code",
   "execution_count": null,
   "id": "9023e823-81cb-4bdf-974d-203411c48f60",
   "metadata": {},
   "outputs": [],
   "source": []
  }
 ],
 "metadata": {
  "kernelspec": {
   "display_name": "Python 3",
   "language": "python",
   "name": "python3"
  },
  "language_info": {
   "codemirror_mode": {
    "name": "ipython",
    "version": 3
   },
   "file_extension": ".py",
   "mimetype": "text/x-python",
   "name": "python",
   "nbconvert_exporter": "python",
   "pygments_lexer": "ipython3",
   "version": "3.8.8"
  }
 },
 "nbformat": 4,
 "nbformat_minor": 5
}
